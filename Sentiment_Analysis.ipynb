{
  "nbformat": 4,
  "nbformat_minor": 0,
  "metadata": {
    "colab": {
      "name": "Sentiment_Analysis.ipynb",
      "provenance": []
    },
    "kernelspec": {
      "name": "python3",
      "display_name": "Python 3"
    }
  },
  "cells": [
    {
      "cell_type": "markdown",
      "metadata": {
        "id": "3_BsJtdIOAjE"
      },
      "source": [
        "# **Sentiment Analysis using RNN model**"
      ]
    },
    {
      "cell_type": "code",
      "metadata": {
        "id": "05c7hROLd-9U"
      },
      "source": [
        "#Import Libraries\n",
        "from tensorflow.keras.datasets import imdb\n",
        "from tensorflow.python.keras.callbacks import ModelCheckpoint\n",
        "from tensorflow.python.keras.callbacks import EarlyStopping\n",
        "from tensorflow.python.keras.preprocessing import sequence\n",
        "from tensorflow.python.keras.layers import Embedding,SimpleRNN,Dense\n",
        "from tensorflow.python.keras.models import Sequential"
      ],
      "execution_count": 1,
      "outputs": []
    },
    {
      "cell_type": "code",
      "metadata": {
        "colab": {
          "base_uri": "https://localhost:8080/"
        },
        "id": "FNIyGsnMOL7P",
        "outputId": "9dccb63d-acdf-4355-c259-55fca2f130e0"
      },
      "source": [
        "#Load IMBD dataset from keras \n",
        "((XT,YT),(Xt,Yt)) = imdb.load_data(num_words=10000)\n",
        "\n",
        "print('Dataset Loaded!')"
      ],
      "execution_count": 2,
      "outputs": [
        {
          "output_type": "stream",
          "text": [
            "Dataset Loaded!\n"
          ],
          "name": "stdout"
        }
      ]
    },
    {
      "cell_type": "code",
      "metadata": {
        "colab": {
          "base_uri": "https://localhost:8080/"
        },
        "id": "kZ9S1a7mOdIX",
        "outputId": "4b15a8fa-f63c-4087-dc33-65d461f0602b"
      },
      "source": [
        "print(\"Training Dataset length \", len(XT))\n",
        "print(\"Testing Dataset length \", len(Xt))"
      ],
      "execution_count": 3,
      "outputs": [
        {
          "output_type": "stream",
          "text": [
            "Training Dataset length  25000\n",
            "Testing Dataset length  25000\n"
          ],
          "name": "stdout"
        }
      ]
    },
    {
      "cell_type": "code",
      "metadata": {
        "colab": {
          "base_uri": "https://localhost:8080/"
        },
        "id": "7_GYp6MvOl3e",
        "outputId": "5bbd9094-6ddb-4d1d-db13-ea72e9d9928c"
      },
      "source": [
        "#print single review\n",
        "print(\"Numerical representation of review :\",XT[0])\n",
        "#length of the review\n",
        "print(\"length of review:\",len(XT[0]))"
      ],
      "execution_count": 4,
      "outputs": [
        {
          "output_type": "stream",
          "text": [
            "Numerical representation of review : [1, 14, 22, 16, 43, 530, 973, 1622, 1385, 65, 458, 4468, 66, 3941, 4, 173, 36, 256, 5, 25, 100, 43, 838, 112, 50, 670, 2, 9, 35, 480, 284, 5, 150, 4, 172, 112, 167, 2, 336, 385, 39, 4, 172, 4536, 1111, 17, 546, 38, 13, 447, 4, 192, 50, 16, 6, 147, 2025, 19, 14, 22, 4, 1920, 4613, 469, 4, 22, 71, 87, 12, 16, 43, 530, 38, 76, 15, 13, 1247, 4, 22, 17, 515, 17, 12, 16, 626, 18, 2, 5, 62, 386, 12, 8, 316, 8, 106, 5, 4, 2223, 5244, 16, 480, 66, 3785, 33, 4, 130, 12, 16, 38, 619, 5, 25, 124, 51, 36, 135, 48, 25, 1415, 33, 6, 22, 12, 215, 28, 77, 52, 5, 14, 407, 16, 82, 2, 8, 4, 107, 117, 5952, 15, 256, 4, 2, 7, 3766, 5, 723, 36, 71, 43, 530, 476, 26, 400, 317, 46, 7, 4, 2, 1029, 13, 104, 88, 4, 381, 15, 297, 98, 32, 2071, 56, 26, 141, 6, 194, 7486, 18, 4, 226, 22, 21, 134, 476, 26, 480, 5, 144, 30, 5535, 18, 51, 36, 28, 224, 92, 25, 104, 4, 226, 65, 16, 38, 1334, 88, 12, 16, 283, 5, 16, 4472, 113, 103, 32, 15, 16, 5345, 19, 178, 32]\n",
            "length of review: 218\n"
          ],
          "name": "stdout"
        }
      ]
    },
    {
      "cell_type": "code",
      "metadata": {
        "colab": {
          "base_uri": "https://localhost:8080/"
        },
        "id": "z87pMIOmQLUE",
        "outputId": "3316a2a2-0188-42a3-ac75-25eb6eca25db"
      },
      "source": [
        "#convert numeric review to words\n",
        "word_idx = imdb.get_word_index()\n",
        "idx_word = dict([value,key] for (key,value) in word_idx.items())\n",
        "actual_review = ' '.join([idx_word.get(idx-3,'?') for idx in XT[0]])\n",
        "print(actual_review)\n",
        "print(len(actual_review.split()))"
      ],
      "execution_count": 5,
      "outputs": [
        {
          "output_type": "stream",
          "text": [
            "? this film was just brilliant casting location scenery story direction everyone's really suited the part they played and you could just imagine being there robert ? is an amazing actor and now the same being director ? father came from the same scottish island as myself so i loved the fact there was a real connection with this film the witty remarks throughout the film were great it was just brilliant so much that i bought the film as soon as it was released for ? and would recommend it to everyone to watch and the fly fishing was amazing really cried at the end it was so sad and you know what they say if you cry at a film it must have been good and this definitely was also ? to the two little boy's that played the ? of norman and paul they were just brilliant children are often left out of the ? list i think because the stars that play them all grown up are such a big profile for the whole film but these children are amazing and should be praised for what they have done don't you think the whole story was so lovely because it was true and was someone's life after all that was shared with us all\n",
            "218\n"
          ],
          "name": "stdout"
        }
      ]
    },
    {
      "cell_type": "markdown",
      "metadata": {
        "id": "7iwrZfZ0QvQ6"
      },
      "source": [
        "Here, we are assuming that each review’s maximum length should be 500. If it is less than that, then add extra 0’s at the end of the array. "
      ]
    },
    {
      "cell_type": "code",
      "metadata": {
        "colab": {
          "base_uri": "https://localhost:8080/"
        },
        "id": "zq7zoTdnQnrj",
        "outputId": "be7fb72f-0eee-43c1-8216-5144d9408f6d"
      },
      "source": [
        "#perform padding operation\n",
        "X_train = sequence.pad_sequences(XT,maxlen=500)\n",
        "X_test = sequence.pad_sequences(Xt,maxlen=500)\n",
        "\n",
        "print(\"Padding Completed!\")"
      ],
      "execution_count": 8,
      "outputs": [
        {
          "output_type": "stream",
          "text": [
            "Padding Completed!\n"
          ],
          "name": "stdout"
        }
      ]
    },
    {
      "cell_type": "code",
      "metadata": {
        "colab": {
          "base_uri": "https://localhost:8080/"
        },
        "id": "E2AQUX5VQ3Mc",
        "outputId": "5f847d33-33af-4feb-fb34-a1256d7729d1"
      },
      "source": [
        "print(X_train.shape)\n",
        "print(X_test.shape)"
      ],
      "execution_count": 9,
      "outputs": [
        {
          "output_type": "stream",
          "text": [
            "(25000, 500)\n",
            "(25000, 500)\n"
          ],
          "name": "stdout"
        }
      ]
    },
    {
      "cell_type": "markdown",
      "metadata": {
        "id": "wzDBC5wMRN4f"
      },
      "source": [
        "####**RNN Model creation**"
      ]
    },
    {
      "cell_type": "code",
      "metadata": {
        "colab": {
          "base_uri": "https://localhost:8080/"
        },
        "id": "hWznOcegRNMe",
        "outputId": "1dca2b1b-2c91-48e4-f2b3-aa4dbd3fddfe"
      },
      "source": [
        "model = Sequential()\n",
        "model.add(Embedding(10000,64))\n",
        "model.add(SimpleRNN(32))\n",
        "model.add(Dense(1,activation='sigmoid'))\n",
        "print(model.summary())"
      ],
      "execution_count": 10,
      "outputs": [
        {
          "output_type": "stream",
          "text": [
            "Model: \"sequential\"\n",
            "_________________________________________________________________\n",
            "Layer (type)                 Output Shape              Param #   \n",
            "=================================================================\n",
            "embedding (Embedding)        (None, None, 64)          640000    \n",
            "_________________________________________________________________\n",
            "simple_rnn (SimpleRNN)       (None, 32)                3104      \n",
            "_________________________________________________________________\n",
            "dense (Dense)                (None, 1)                 33        \n",
            "=================================================================\n",
            "Total params: 643,137\n",
            "Trainable params: 643,137\n",
            "Non-trainable params: 0\n",
            "_________________________________________________________________\n",
            "None\n"
          ],
          "name": "stdout"
        }
      ]
    },
    {
      "cell_type": "code",
      "metadata": {
        "colab": {
          "base_uri": "https://localhost:8080/"
        },
        "id": "fLpky73UUDLb",
        "outputId": "4e709e6d-61ea-4548-8a1d-fc991bb2e3d6"
      },
      "source": [
        "model.compile(optimizer='rmsprop',loss='binary_crossentropy',metrics=['acc'])\n",
        "\n",
        "print(\"Model Compiled Successfully!\")"
      ],
      "execution_count": 11,
      "outputs": [
        {
          "output_type": "stream",
          "text": [
            "Model Compiled Successfully!\n"
          ],
          "name": "stdout"
        }
      ]
    },
    {
      "cell_type": "code",
      "metadata": {
        "colab": {
          "base_uri": "https://localhost:8080/"
        },
        "id": "HkWOGrbfUE34",
        "outputId": "4fa9468c-f0c9-4761-9904-d066ec937605"
      },
      "source": [
        "checkpoint = ModelCheckpoint(\"best_model.h5\", monitor='val_loss', verbose=0, save_best_only=True, save_weights_only=False)\n",
        "earlystop = EarlyStopping(monitor='val_acc',patience=1)\n",
        "\n",
        "print(\"Callbacks Created Successfully!\")"
      ],
      "execution_count": 12,
      "outputs": [
        {
          "output_type": "stream",
          "text": [
            "Callbacks Created Successfully!\n"
          ],
          "name": "stdout"
        }
      ]
    },
    {
      "cell_type": "markdown",
      "metadata": {
        "id": "XQV1Ga3DUVz_"
      },
      "source": [
        "### **Train Model**"
      ]
    },
    {
      "cell_type": "code",
      "metadata": {
        "colab": {
          "base_uri": "https://localhost:8080/"
        },
        "id": "MOrEP4oiUTuR",
        "outputId": "25d5dd51-d6b8-4ce0-eb03-55992e5c6333"
      },
      "source": [
        "hist = model.fit(X_train,YT,validation_split=0.2,epochs=10,batch_size=128,callbacks=[checkpoint,earlystop])"
      ],
      "execution_count": 13,
      "outputs": [
        {
          "output_type": "stream",
          "text": [
            "Epoch 1/10\n",
            "157/157 [==============================] - 35s 225ms/step - loss: 0.5472 - acc: 0.7106 - val_loss: 0.3718 - val_acc: 0.8490\n",
            "Epoch 2/10\n",
            "157/157 [==============================] - 34s 216ms/step - loss: 0.3297 - acc: 0.8689 - val_loss: 0.4059 - val_acc: 0.8216\n"
          ],
          "name": "stdout"
        }
      ]
    },
    {
      "cell_type": "markdown",
      "metadata": {
        "id": "iSxhIZlUYTft"
      },
      "source": [
        "**Training Loss vs Validation Loss**"
      ]
    },
    {
      "cell_type": "code",
      "metadata": {
        "colab": {
          "base_uri": "https://localhost:8080/",
          "height": 281
        },
        "id": "UzmkyzFZXpaR",
        "outputId": "2abfe447-991e-4b01-99e2-1f0538bf9434"
      },
      "source": [
        "import matplotlib.pyplot as plt\n",
        "\n",
        "loss = hist.history['loss']\n",
        "val_loss = hist.history['val_loss']\n",
        "\n",
        "epochs = range(1,len(loss)+1)\n",
        "\n",
        "plt.title(\"Loss vs Epochs\")\n",
        "plt.plot(epochs,loss,label=\"Training Loss\")\n",
        "plt.plot(epochs,val_loss,label=\"Val Loss\")\n",
        "plt.legend()\n",
        "plt.show()"
      ],
      "execution_count": 14,
      "outputs": [
        {
          "output_type": "display_data",
          "data": {
            "image/png": "[encoded data removed]",
            "text/plain": [
              "<Figure size 432x288 with 1 Axes>"
            ]
          },
          "metadata": {
            "tags": [],
            "needs_background": "light"
          }
        }
      ]
    },
    {
      "cell_type": "markdown",
      "metadata": {
        "id": "Tc8J4XTiYapJ"
      },
      "source": [
        "**Training Accuracy vs Validation Accuracy**"
      ]
    },
    {
      "cell_type": "code",
      "metadata": {
        "colab": {
          "base_uri": "https://localhost:8080/",
          "height": 281
        },
        "id": "Is_i3H6RXfw9",
        "outputId": "52cc03d5-06cb-4695-e97f-2fc4a55e8417"
      },
      "source": [
        "import matplotlib.pyplot as plt\n",
        "\n",
        "acc = hist.history['acc']\n",
        "val_acc = hist.history['val_acc']\n",
        "epochs = range(1,len(loss)+1)\n",
        "\n",
        "plt.title(\"Accuracy vs Epochs\")\n",
        "plt.plot(epochs,acc,label=\"Training Acc\")\n",
        "plt.plot(epochs,val_acc,label=\"Val Acc\")\n",
        "plt.legend()\n",
        "plt.show()"
      ],
      "execution_count": 15,
      "outputs": [
        {
          "output_type": "display_data",
          "data": {
            "image/png": "[encoded data removed]",
            "text/plain": [
              "<Figure size 432x288 with 1 Axes>"
            ]
          },
          "metadata": {
            "tags": [],
            "needs_background": "light"
          }
        }
      ]
    },
    {
      "cell_type": "markdown",
      "metadata": {
        "id": "yiko1i_pZMMI"
      },
      "source": [
        "**Improve the accuarcy**\n",
        "\n",
        " 1. Increasing the number of words to 30000.\n",
        " 2. Changing Hyperparameters"
      ]
    },
    {
      "cell_type": "code",
      "metadata": {
        "colab": {
          "base_uri": "https://localhost:8080/"
        },
        "id": "RMplaHWaZJHp",
        "outputId": "da14ed19-0938-40e7-97f4-901ca40aeb27"
      },
      "source": [
        "# Load the Dataset\n",
        "((XT,YT),(Xt,Yt)) = imdb.load_data(num_words=30000)\n",
        "print(\"The length of the Training Dataset is \", len(XT))\n",
        "print(\"The length of the Testing Dataset is \", len(Xt))\n",
        "\n",
        "# Perform the padding\n",
        "X_train = sequence.pad_sequences(XT,maxlen=500)\n",
        "X_test = sequence.pad_sequences(Xt,maxlen=500)\n",
        "\n",
        "# Create the Model Architecture\n",
        "model = Sequential()\n",
        "model.add(Embedding(30000,128))\n",
        "model.add(SimpleRNN(64))\n",
        "model.add(Dense(1,activation='sigmoid'))\n",
        "\n",
        "# Compile the Model\n",
        "model.compile(optimizer='rmsprop',loss='binary_crossentropy',metrics=['acc'])\n",
        "\n",
        "# Create the Callbacks\n",
        "checkpoint = ModelCheckpoint(\"best_model.h5\", monitor='val_loss', verbose=0, save_best_only=True, save_weights_only=False)\n",
        "earlystop = EarlyStopping(monitor='val_acc',patience=1)\n",
        "\n",
        "# Train the Model\n",
        "hist = model.fit(X_train,YT,validation_split=0.2,epochs=10,batch_size=128,callbacks=[checkpoint,earlystop])\n"
      ],
      "execution_count": 16,
      "outputs": [
        {
          "output_type": "stream",
          "text": [
            "The length of the Training Dataset is  25000\n",
            "The length of the Testing Dataset is  25000\n",
            "Epoch 1/10\n",
            "157/157 [==============================] - 59s 373ms/step - loss: 0.6347 - acc: 0.6242 - val_loss: 0.4611 - val_acc: 0.7950\n",
            "Epoch 2/10\n",
            "157/157 [==============================] - 59s 377ms/step - loss: 0.3417 - acc: 0.8555 - val_loss: 0.4216 - val_acc: 0.8116\n",
            "Epoch 3/10\n",
            "157/157 [==============================] - 58s 371ms/step - loss: 0.2214 - acc: 0.9075 - val_loss: 0.4471 - val_acc: 0.8054\n"
          ],
          "name": "stdout"
        }
      ]
    },
    {
      "cell_type": "code",
      "metadata": {
        "colab": {
          "base_uri": "https://localhost:8080/",
          "height": 545
        },
        "id": "ZKM0cBqdiTTn",
        "outputId": "ba4096a0-feef-4fb8-d28a-d886e8355dd6"
      },
      "source": [
        "import matplotlib.pyplot as plt\n",
        "\n",
        "# Validation Accuracy vs Training Accuracy\n",
        "acc = hist.history['acc']\n",
        "val_acc = hist.history['val_acc']\n",
        "epochs = range(1,len(acc)+1)\n",
        "plt.title(\"Accuracy vs Epochs\")\n",
        "plt.plot(epochs,acc,label=\"Training Acc\")\n",
        "plt.plot(epochs,val_acc,label=\"Val Acc\")\n",
        "plt.legend()\n",
        "plt.show()\n",
        "\n",
        "# Validation Loss vs Training Loss\n",
        "loss = hist.history['loss']\n",
        "val_loss = hist.history['val_loss']\n",
        "epochs = range(1,len(loss)+1)\n",
        "plt.title(\"Loss vs Epochs\")\n",
        "plt.plot(epochs,loss,label=\"Training Loss\")\n",
        "plt.plot(epochs,val_loss,label=\"Val Loss\")\n",
        "plt.legend()\n",
        "plt.show()"
      ],
      "execution_count": 17,
      "outputs": [
        {
          "output_type": "display_data",
          "data": {
            "image/png": "[encoded data removed]",
            "text/plain": [
              "<Figure size 432x288 with 1 Axes>"
            ]
          },
          "metadata": {
            "tags": [],
            "needs_background": "light"
          }
        },
        {
          "output_type": "display_data",
          "data": {
            "image/png": "[encoded data removed]",
            "text/plain": [
              "<Figure size 432x288 with 1 Axes>"
            ]
          },
          "metadata": {
            "tags": [],
            "needs_background": "light"
          }
        }
      ]
    },
    {
      "cell_type": "markdown",
      "metadata": {
        "id": "Q0lQmnhXYjYF"
      },
      "source": [
        "**Test the model**"
      ]
    },
    {
      "cell_type": "code",
      "metadata": {
        "colab": {
          "base_uri": "https://localhost:8080/"
        },
        "id": "vPojy1x8X4-y",
        "outputId": "7fa5a4b8-1dd2-4683-d2e4-41fb946a064e"
      },
      "source": [
        "model.evaluate(X_test,Yt)"
      ],
      "execution_count": 18,
      "outputs": [
        {
          "output_type": "stream",
          "text": [
            "782/782 [==============================] - 31s 40ms/step - loss: 0.4448 - acc: 0.8075\n"
          ],
          "name": "stdout"
        },
        {
          "output_type": "execute_result",
          "data": {
            "text/plain": [
              "[0.44478458166122437, 0.807479977607727]"
            ]
          },
          "metadata": {
            "tags": []
          },
          "execution_count": 18
        }
      ]
    },
    {
      "cell_type": "markdown",
      "metadata": {
        "id": "2X_3QR2-im4Y"
      },
      "source": [
        "**Predcition sentiment on new review**"
      ]
    },
    {
      "cell_type": "code",
      "metadata": {
        "colab": {
          "base_uri": "https://localhost:8080/"
        },
        "id": "zpgL8fmaien7",
        "outputId": "6e3a3207-56fd-400a-fda8-ac6ef85053fc"
      },
      "source": [
        "sent = \"This movie is really bad . I do not like this movie because the direction was horrible .\"\n",
        "inp = []\n",
        "\n",
        "# Get the word:integer mapping\n",
        "word_idx = imdb.get_word_index()\n",
        "\n",
        "# Convert each word to integer\n",
        "for word in sent.split():\n",
        "  if word in word_idx.keys():\n",
        "    inp.append(word_idx[word])\n",
        "  else:\n",
        "    inp.append(1)\n",
        "\n",
        "print(inp) \n",
        "\n",
        "# Perform the padding\n",
        "final_input = sequence.pad_sequences([inp],maxlen=500)\n",
        "\n",
        "# Finally predict the sentiment\n",
        "value_res=model.predict(final_input)\n",
        "\n",
        "if value_res >0.5 and value_res<1:\n",
        "  print(\"Sentiment is Negative\")\n",
        "else:\n",
        "  print(\"Sentiment is Positive\")"
      ],
      "execution_count": 20,
      "outputs": [
        {
          "output_type": "stream",
          "text": [
            "[1, 17, 6, 63, 75, 1, 1, 78, 21, 37, 11, 17, 85, 1, 455, 13, 524, 1]\n",
            "Sentiment is Negative\n"
          ],
          "name": "stdout"
        }
      ]
    }
  ]
}